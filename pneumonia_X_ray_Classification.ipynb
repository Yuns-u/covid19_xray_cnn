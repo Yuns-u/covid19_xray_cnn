{
  "nbformat": 4,
  "nbformat_minor": 0,
  "metadata": {
    "colab": {
      "name": "pneumonia X-ray Classification.ipynb",
      "provenance": [],
      "collapsed_sections": [],
      "authorship_tag": "ABX9TyPCkdO5/WEVKyAlS4q+RCmr",
      "include_colab_link": true
    },
    "kernelspec": {
      "name": "python3",
      "display_name": "Python 3"
    },
    "language_info": {
      "name": "python"
    }
  },
  "cells": [
    {
      "cell_type": "markdown",
      "metadata": {
        "id": "view-in-github",
        "colab_type": "text"
      },
      "source": [
        "<a href=\"https://colab.research.google.com/github/Yuns-u/pneumonia_classification/blob/main/pneumonia_X_ray_Classification.ipynb\" target=\"_parent\"><img src=\"https://colab.research.google.com/assets/colab-badge.svg\" alt=\"Open In Colab\"/></a>"
      ]
    },
    {
      "cell_type": "markdown",
      "metadata": {
        "id": "URTgfM4aJ5m_"
      },
      "source": [
        "# pneumonia X-ray Classification\n",
        "폐렴 x-ray 사진을 판별하는 이미지 분류 딥러닝 모델 만들기\n",
        "\n",
        "2020년 3월 기준 COVID-19 환자 중 폐렴이 진행되는 경우, CT 촬영을 통한 폐렴유무 판단은 어려운 것이라는 전문가의 소견이 있었다.\n",
        "(https://www.joongang.co.kr/article/23720884#home)\n",
        "같은 바이러스성 폐렴임에도 불구하고 코로나 19는 영상 소견으로 최대 82.4%까지 포착할 수 있는 SARS나 83.6%까지 포착할 수 있는 메르스에 비해 포착하기 어렵다고 한다.\n",
        "\n",
        "# 데이터\n",
        "해당 이미지 데이터는 총 194개로 상당히 적은 양이다. \n",
        "https://www.kaggle.com/khoongweihao/covid19-xray-dataset-train-test-sets\n",
        "\n",
        "# 프로젝트 목표\n",
        "이번 프로젝트를 통해 이미지 분류를 딥러닝으로 해결함으로써 딥러닝에 대한 이해도를 높히고자 한다. 또한 80% 이상의 정확도를 가져올 수 있다면 사스나 메르스를 잘 넘긴 우리나리인만큼, 코로나 바이러스의 확산 및 치료에 대한 대책을 마련할 수 있을 것이다.\n",
        "\n",
        "\n",
        "x-ray 이미지를 통해 정상 폐와 폐렴에 걸린 폐를 분류한다.\n",
        "폐렴인 경우 positive(1)로, 정상 이미지를 Negative(0)로 레이블링해준다."
      ]
    },
    {
      "cell_type": "code",
      "metadata": {
        "id": "Q4uSyN8zjyjv"
      },
      "source": [
        "#필요한 모듈 불러오기\n",
        "import pandas as pd\n",
        "import numpy as np\n",
        "import tensorflow as tf\n",
        "import matplotlib.pyplot as plt\n",
        "\n",
        "from tensorflow.keras.preprocessing import image\n",
        "from tensorflow.keras.layers import Dense, GlobalAveragePooling2D, Conv2D, MaxPooling2D, Flatten\n",
        "from tensorflow.keras.models import Model, Sequential\n",
        "from tensorflow.keras.losses import binary_crossentropy"
      ],
      "execution_count": 50,
      "outputs": []
    },
    {
      "cell_type": "code",
      "metadata": {
        "colab": {
          "base_uri": "https://localhost:8080/"
        },
        "id": "q7mr4tTckDBs",
        "outputId": "474bdbbb-a4a4-4ec8-c8c6-7630c29e0a63"
      },
      "source": [
        "from google.colab import drive\n",
        "drive.mount('/content/drive')"
      ],
      "execution_count": 12,
      "outputs": [
        {
          "output_type": "stream",
          "name": "stdout",
          "text": [
            "Drive already mounted at /content/drive; to attempt to forcibly remount, call drive.mount(\"/content/drive\", force_remount=True).\n"
          ]
        }
      ]
    },
    {
      "cell_type": "code",
      "metadata": {
        "colab": {
          "base_uri": "https://localhost:8080/"
        },
        "id": "zekf9kcVkFd0",
        "outputId": "058fb939-e976-44c9-b0cf-b4c881c96df4"
      },
      "source": [
        "train_ds = tf.keras.preprocessing.image_dataset_from_directory(\n",
        "            '/content/drive/MyDrive/Colab Notebooks/pneumonia_project/xray_dataset_covid19/train',\n",
        "            labels= \"inferred\",\n",
        "            label_mode= \"binary\",\n",
        "            image_size=(256, 256), \n",
        "            class_names=[\"NORMAL\", \"PNEUMONIA\"],\n",
        "            color_mode=\"grayscale\",\n",
        "            shuffle=False,\n",
        "            validation_split=0.2,\n",
        "            subset='training'\n",
        "        )\n",
        "\n",
        "val_ds = tf.keras.preprocessing.image_dataset_from_directory(\n",
        "            '/content/drive/MyDrive/Colab Notebooks/pneumonia_project/xray_dataset_covid19/test',\n",
        "            labels= \"inferred\",\n",
        "            label_mode= \"binary\",\n",
        "            image_size=(256, 256),\n",
        "            class_names=[\"NORMAL\", \"PNEUMONIA\"],\n",
        "            color_mode=\"grayscale\",\n",
        "            shuffle=False,\n",
        "            validation_split=0.2,\n",
        "            subset=\"validation\"\n",
        "        )\n",
        "\n",
        "\n",
        "data_list = [train_ds, val_ds]\n",
        "\n",
        "#라벨링명 확인하기\n",
        "for i in data_list :\n",
        "  print(i.class_names)"
      ],
      "execution_count": 53,
      "outputs": [
        {
          "output_type": "stream",
          "name": "stdout",
          "text": [
            "Found 148 files belonging to 2 classes.\n",
            "Using 119 files for training.\n",
            "Found 40 files belonging to 2 classes.\n",
            "Using 8 files for validation.\n",
            "['NORMAL', 'PNEUMONIA']\n",
            "['NORMAL', 'PNEUMONIA']\n"
          ]
        }
      ]
    },
    {
      "cell_type": "code",
      "metadata": {
        "colab": {
          "base_uri": "https://localhost:8080/"
        },
        "id": "9hGpFJWeq81i",
        "outputId": "716d64f0-c8df-40be-fb9e-0dbe34da5185"
      },
      "source": [
        "for normal_batch, target_batch in train:\n",
        "  print(normal_batch.shape)\n",
        "  print(target_batch.shape)\n",
        "  break"
      ],
      "execution_count": 54,
      "outputs": [
        {
          "output_type": "stream",
          "name": "stdout",
          "text": [
            "(32, 256, 256, 1)\n",
            "(32, 1)\n"
          ]
        }
      ]
    },
    {
      "cell_type": "markdown",
      "metadata": {
        "id": "IaWCoZJhr157"
      },
      "source": [
        "- normal_batch는 (32, 256, 256, 1) 형상의 텐서이며, 256x256x1 형상의 32개 이미지 묶음으로 되어 있습니다(마지막 차원은 색상 채널 RGB를 나타냄). \n",
        "- target_batch는 형상 (32,1)의 텐서이며 32개 이미지에 해당하는 레이블입니다.\n",
        "\n",
        "-> 수정 필요. 이해 필요."
      ]
    },
    {
      "cell_type": "code",
      "metadata": {
        "id": "M7EJQmtCuW6A"
      },
      "source": [
        "#데이터 표준화\n",
        "normalization_layer = tf.keras.layers.experimental.preprocessing.Rescaling(1./255)"
      ],
      "execution_count": 55,
      "outputs": []
    },
    {
      "cell_type": "markdown",
      "metadata": {
        "id": "vQC5sI0KvTO0"
      },
      "source": [
        "map을 호출하여 데이터세트에 레이어를 적용하여 데이터 표준화.\n",
        "-> 흑백의 이미지인데 이 표준화가 과연 필요한가?"
      ]
    },
    {
      "cell_type": "code",
      "metadata": {
        "id": "twU4wiGrvJLY",
        "outputId": "de4e10bc-f74d-4d8a-fd65-c66ecd38f020",
        "colab": {
          "base_uri": "https://localhost:8080/"
        }
      },
      "source": [
        "normalized_ds = train_ds.map(lambda x, y: (normalization_layer(x), y))\n",
        "image_batch, labels_batch = next(iter(normalized_ds))\n",
        "first_image = image_batch[0]\n",
        "# Notice the pixels values are now in `[0,1]`.\n",
        "print(np.min(first_image), np.max(first_image))"
      ],
      "execution_count": 56,
      "outputs": [
        {
          "output_type": "stream",
          "name": "stdout",
          "text": [
            "0.030752147 0.99930304\n"
          ]
        }
      ]
    },
    {
      "cell_type": "code",
      "metadata": {
        "id": "FwUuz2tFvlU5"
      },
      "source": [
        "#성능을 위한 데이터 세트 구성하기\n",
        "\n",
        "AUTOTUNE = tf.data.AUTOTUNE\n",
        "\n",
        "train_ds = train_ds.cache().prefetch(buffer_size=AUTOTUNE)\n",
        "val_ds = val_ds.cache().prefetch(buffer_size=AUTOTUNE)"
      ],
      "execution_count": 57,
      "outputs": []
    },
    {
      "cell_type": "markdown",
      "metadata": {
        "id": "S7shABOIo5Cw"
      },
      "source": [
        "# 기준 모델\n",
        "전통적인 머신러닝으로도 해당 문제를 해결할 수 있을 것 같다...\n",
        "찾아보기"
      ]
    },
    {
      "cell_type": "code",
      "metadata": {
        "id": "QYXKoT9Co7Dv"
      },
      "source": [
        ""
      ],
      "execution_count": null,
      "outputs": []
    },
    {
      "cell_type": "markdown",
      "metadata": {
        "id": "fpOE7MJCoVcm"
      },
      "source": [
        "# 전처리하지 않고 모델링\n",
        "\n",
        "어떤 사람의 모델을 보고 따라해본 것.\n",
        "많이 까먹었다....모델 쌓는 것 전에 개념 정리할 필요 있음."
      ]
    },
    {
      "cell_type": "code",
      "metadata": {
        "id": "l8xpybNjoa8A"
      },
      "source": [
        "#initializing the CNN\n",
        "cnn = tf.keras.models.Sequential()\n",
        "\n",
        "#convolution\n",
        "cnn.add(tf.keras.layers.Conv2D(filters=32, kernel_size=3, activation='relu', input_shape=[256, 256, 1]))\n",
        "\n",
        "#pooling\n",
        "cnn.add(tf.keras.layers.MaxPool2D(pool_size=2, strides=2))\n",
        "\n",
        "#adding second convolution layer\n",
        "cnn.add(tf.keras.layers.Conv2D(filters=32, kernel_size=3, activation='relu'))\n",
        "cnn.add(tf.keras.layers.MaxPool2D(pool_size=2, strides=2))\n",
        "\n",
        "#flattening\n",
        "cnn.add(tf.keras.layers.Flatten())\n",
        "\n",
        "#output layer\n",
        "cnn.add(tf.keras.layers.Dense(units=1, activation='sigmoid'))"
      ],
      "execution_count": 58,
      "outputs": []
    },
    {
      "cell_type": "code",
      "metadata": {
        "id": "AOl33S8mp9VA"
      },
      "source": [
        "cnn.compile(optimizer = 'adam', loss = 'binary_crossentropy', metrics = ['accuracy'])"
      ],
      "execution_count": 59,
      "outputs": []
    },
    {
      "cell_type": "markdown",
      "metadata": {
        "id": "cqgBs2ObxdvF"
      },
      "source": [
        "# 모델 학습 시키기 전 과적합 방지 방안 생각해볼 필요 있음."
      ]
    },
    {
      "cell_type": "code",
      "metadata": {
        "colab": {
          "base_uri": "https://localhost:8080/"
        },
        "id": "WwgfzTDSqP6T",
        "outputId": "7e240059-5bbe-423d-fe27-89415fa8e445"
      },
      "source": [
        "history = cnn.fit(\n",
        "  train_ds,\n",
        "  validation_data=val_ds,\n",
        "  epochs=10,\n",
        "  \n",
        ")"
      ],
      "execution_count": 60,
      "outputs": [
        {
          "output_type": "stream",
          "name": "stdout",
          "text": [
            "Epoch 1/10\n",
            "4/4 [==============================] - 9s 2s/step - loss: 702.0295 - accuracy: 0.3529 - val_loss: 1077.5259 - val_accuracy: 0.0000e+00\n",
            "Epoch 2/10\n",
            "4/4 [==============================] - 7s 2s/step - loss: 125.8495 - accuracy: 0.6218 - val_loss: 52.7988 - val_accuracy: 0.0000e+00\n",
            "Epoch 3/10\n",
            "4/4 [==============================] - 7s 2s/step - loss: 13.6722 - accuracy: 0.6471 - val_loss: 1.9190e-31 - val_accuracy: 1.0000\n",
            "Epoch 4/10\n",
            "4/4 [==============================] - 7s 2s/step - loss: 27.1566 - accuracy: 0.3782 - val_loss: 2.7565e-05 - val_accuracy: 1.0000\n",
            "Epoch 5/10\n",
            "4/4 [==============================] - 7s 2s/step - loss: 2.0016 - accuracy: 0.6807 - val_loss: 0.9590 - val_accuracy: 0.7500\n",
            "Epoch 6/10\n",
            "4/4 [==============================] - 7s 2s/step - loss: 0.0952 - accuracy: 0.9496 - val_loss: 0.0445 - val_accuracy: 1.0000\n",
            "Epoch 7/10\n",
            "4/4 [==============================] - 7s 2s/step - loss: 0.1886 - accuracy: 0.9244 - val_loss: 0.1032 - val_accuracy: 1.0000\n",
            "Epoch 8/10\n",
            "4/4 [==============================] - 7s 2s/step - loss: 0.1480 - accuracy: 0.9832 - val_loss: 0.1424 - val_accuracy: 0.8750\n",
            "Epoch 9/10\n",
            "4/4 [==============================] - 7s 2s/step - loss: 0.1302 - accuracy: 0.9748 - val_loss: 0.1413 - val_accuracy: 0.8750\n",
            "Epoch 10/10\n",
            "4/4 [==============================] - 7s 2s/step - loss: 0.1051 - accuracy: 0.9748 - val_loss: 0.1340 - val_accuracy: 0.8750\n"
          ]
        }
      ]
    },
    {
      "cell_type": "code",
      "metadata": {
        "id": "GFBeczyfwhmU",
        "outputId": "0250b175-d352-4c7e-8de2-9604ec9a1df0",
        "colab": {
          "base_uri": "https://localhost:8080/",
          "height": 279
        }
      },
      "source": [
        "# 학습과정에서 기록된 훈련 데이터의 손실과 테스트 데이터의 손실 히스토리를 시각화할 수 있다.\n",
        "plt.plot(history.history['loss'],label='train')\n",
        "plt.plot(history.history['val_loss'],label='test')\n",
        "plt.xlabel('number of epochs')\n",
        "plt.ylabel('value of loss')\n",
        "plt.legend()\n",
        "plt.show()"
      ],
      "execution_count": 61,
      "outputs": [
        {
          "output_type": "display_data",
          "data": {
            "image/png": "[encoded data removed]",
            "text/plain": [
              "<Figure size 432x288 with 1 Axes>"
            ]
          },
          "metadata": {
            "needs_background": "light"
          }
        }
      ]
    },
    {
      "cell_type": "markdown",
      "metadata": {
        "id": "Mluzv_ZrwHmg"
      },
      "source": [
        "# 참고자료\n",
        "- https://www.tensorflow.org/tutorials/load_data/images?hl=ko\n",
        "-"
      ]
    }
  ]
}